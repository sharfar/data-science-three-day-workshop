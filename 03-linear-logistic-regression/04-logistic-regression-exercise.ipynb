{
 "cells": [
  {
   "cell_type": "markdown",
   "metadata": {},
   "source": [
    "## Exercise: Build a logistic regression model to predict fish species\n",
    "\n",
    "Using the fish dataset in this repo (location relative to this notebook: `../datasets/fish/Fish.csv`) do the following:\n",
    "\n",
    "1. Split the data into labels and features, with the \"species\" column being the label and the other columns as features.\n",
    "2. Split the fish data into training and validation sets.\n",
    "3. Fit the model!\n",
    "4. Score the model, what is this value? How should you interpret it?\n",
    "5. Examine the coefficents and intercept value...\n",
    "    * These are a strange shape compared to linear regression. \n",
    "    * Can you explain what they are?\n",
    "6. Compute and plot the a \"confusion matrix\"\n",
    "    * Hint 1: [https://machinelearningmastery.com/confusion-matrix-machine-learning/](https://machinelearningmastery.com/confusion-matrix-machine-learning/)\n",
    "    * Hint 2: [https://scikit-learn.org/stable/auto_examples/model_selection/plot_confusion_matrix.html](https://scikit-learn.org/stable/auto_examples/model_selection/plot_confusion_matrix.html)\n",
    "    * Hint 3: [https://stackoverflow.com/questions/35572000/how-can-i-plot-a-confusion-matrix](https://stackoverflow.com/questions/35572000/how-can-i-plot-a-confusion-matrix)\n",
    "    * Is your model good at some classes and bad at others?\n",
    "    * Are there any interesting trends in the confusion matrix?"
   ]
  },
  {
   "cell_type": "code",
   "execution_count": 1,
   "metadata": {},
   "outputs": [],
   "source": [
    "# Your code below here... use as many cells as you'd like.\n",
    "%matplotlib inline\n",
    "import matplotlib.pyplot as plt\n",
    "import pandas as pd\n",
    "import numpy as np"
   ]
  },
  {
   "cell_type": "code",
   "execution_count": 2,
   "metadata": {},
   "outputs": [
    {
     "data": {
      "text/html": [
       "<div>\n",
       "<style scoped>\n",
       "    .dataframe tbody tr th:only-of-type {\n",
       "        vertical-align: middle;\n",
       "    }\n",
       "\n",
       "    .dataframe tbody tr th {\n",
       "        vertical-align: top;\n",
       "    }\n",
       "\n",
       "    .dataframe thead th {\n",
       "        text-align: right;\n",
       "    }\n",
       "</style>\n",
       "<table border=\"1\" class=\"dataframe\">\n",
       "  <thead>\n",
       "    <tr style=\"text-align: right;\">\n",
       "      <th></th>\n",
       "      <th>Species</th>\n",
       "      <th>Weight</th>\n",
       "      <th>Length1</th>\n",
       "      <th>Length2</th>\n",
       "      <th>Length3</th>\n",
       "      <th>Height</th>\n",
       "      <th>Width</th>\n",
       "    </tr>\n",
       "  </thead>\n",
       "  <tbody>\n",
       "    <tr>\n",
       "      <th>0</th>\n",
       "      <td>Bream</td>\n",
       "      <td>242.0</td>\n",
       "      <td>23.2</td>\n",
       "      <td>25.4</td>\n",
       "      <td>30.0</td>\n",
       "      <td>11.5200</td>\n",
       "      <td>4.0200</td>\n",
       "    </tr>\n",
       "    <tr>\n",
       "      <th>1</th>\n",
       "      <td>Bream</td>\n",
       "      <td>290.0</td>\n",
       "      <td>24.0</td>\n",
       "      <td>26.3</td>\n",
       "      <td>31.2</td>\n",
       "      <td>12.4800</td>\n",
       "      <td>4.3056</td>\n",
       "    </tr>\n",
       "    <tr>\n",
       "      <th>2</th>\n",
       "      <td>Bream</td>\n",
       "      <td>340.0</td>\n",
       "      <td>23.9</td>\n",
       "      <td>26.5</td>\n",
       "      <td>31.1</td>\n",
       "      <td>12.3778</td>\n",
       "      <td>4.6961</td>\n",
       "    </tr>\n",
       "    <tr>\n",
       "      <th>3</th>\n",
       "      <td>Bream</td>\n",
       "      <td>363.0</td>\n",
       "      <td>26.3</td>\n",
       "      <td>29.0</td>\n",
       "      <td>33.5</td>\n",
       "      <td>12.7300</td>\n",
       "      <td>4.4555</td>\n",
       "    </tr>\n",
       "    <tr>\n",
       "      <th>4</th>\n",
       "      <td>Bream</td>\n",
       "      <td>430.0</td>\n",
       "      <td>26.5</td>\n",
       "      <td>29.0</td>\n",
       "      <td>34.0</td>\n",
       "      <td>12.4440</td>\n",
       "      <td>5.1340</td>\n",
       "    </tr>\n",
       "  </tbody>\n",
       "</table>\n",
       "</div>"
      ],
      "text/plain": [
       "  Species  Weight  Length1  Length2  Length3   Height   Width\n",
       "0   Bream   242.0     23.2     25.4     30.0  11.5200  4.0200\n",
       "1   Bream   290.0     24.0     26.3     31.2  12.4800  4.3056\n",
       "2   Bream   340.0     23.9     26.5     31.1  12.3778  4.6961\n",
       "3   Bream   363.0     26.3     29.0     33.5  12.7300  4.4555\n",
       "4   Bream   430.0     26.5     29.0     34.0  12.4440  5.1340"
      ]
     },
     "execution_count": 2,
     "metadata": {},
     "output_type": "execute_result"
    }
   ],
   "source": [
    "path_to_fish = '../datasets/fish/Fish.csv'\n",
    "fish_df = pd.read_csv(path_to_fish)\n",
    "fish_df.head()"
   ]
  },
  {
   "cell_type": "code",
   "execution_count": 56,
   "metadata": {},
   "outputs": [
    {
     "name": "stdout",
     "output_type": "stream",
     "text": [
      "train: 0.9921259842519685, test: 0.9375\n",
      "['Bream' 'Parkki' 'Perch' 'Pike' 'Roach' 'Smelt' 'Whitefish']\n",
      "[[ 0.05947115 -0.55827863 -0.35942629  0.91518072  1.34502609 -0.12471929]\n",
      " [ 0.07257534 -0.13625651 -0.36294208 -0.72143846  1.43950562 -0.20639052]\n",
      " [ 0.08568021  0.76709071  1.35203774 -2.49229902 -1.1155527   0.34440565]\n",
      " [ 0.05722378  0.23104351  0.26627364  0.38449282 -0.8862579  -0.3545922 ]\n",
      " [ 0.04985457 -0.07574505 -1.25815041  1.10188942 -0.45491641  0.46625055]\n",
      " [-0.40459095  0.47544274  0.40456108  0.5243685  -0.05905909 -0.05349843]\n",
      " [ 0.07978589 -0.70329676 -0.04235367  0.28780603 -0.26874562 -0.07145575]]\n",
      "Weight [ 0.05947115 -0.55827863 -0.35942629  0.91518072  1.34502609 -0.12471929]\n",
      "Length1 [ 0.07257534 -0.13625651 -0.36294208 -0.72143846  1.43950562 -0.20639052]\n",
      "Length2 [ 0.08568021  0.76709071  1.35203774 -2.49229902 -1.1155527   0.34440565]\n",
      "Length3 [ 0.05722378  0.23104351  0.26627364  0.38449282 -0.8862579  -0.3545922 ]\n",
      "Height [ 0.04985457 -0.07574505 -1.25815041  1.10188942 -0.45491641  0.46625055]\n",
      "Width [-0.40459095  0.47544274  0.40456108  0.5243685  -0.05905909 -0.05349843]\n"
     ]
    }
   ],
   "source": [
    "from sklearn.linear_model import LogisticRegression\n",
    "from sklearn.model_selection import train_test_split\n",
    "from sklearn import svm, datasets\n",
    "from sklearn.metrics import ConfusionMatrixDisplay\n",
    "\n",
    "labels = fish_df['Species']\n",
    "features = fish_df.drop(columns=['Species'])\n",
    "\n",
    "# We \"hold out\" some data to test if our model can work\n",
    "# on data it wasn't allowed to see during the training process\n",
    "training_data, test_data, training_labels, test_labels = train_test_split(features, labels, test_size=0.2, random_state=1)\n",
    "\n",
    "model = LogisticRegression(max_iter=50000)\n",
    "model.fit(training_data, training_labels)\n",
    "\n",
    "# We generally \"score\" the model based on the held out data, but it's useful to compare \n",
    "# the training scores to the test scores to look for \"overfitting\"ArithmeticError\n",
    "train_score = model.score(training_data, training_labels)\n",
    "test_score = model.score(test_data, test_labels)\n",
    "\n"
   ]
  },
  {
   "cell_type": "code",
   "execution_count": 59,
   "metadata": {},
   "outputs": [
    {
     "name": "stdout",
     "output_type": "stream",
     "text": [
      "train: 0.9921259842519685, test: 0.9375\n",
      "['Bream' 'Parkki' 'Perch' 'Pike' 'Roach' 'Smelt' 'Whitefish']\n",
      "[[ 0.05947115 -0.55827863 -0.35942629  0.91518072  1.34502609 -0.12471929]\n",
      " [ 0.07257534 -0.13625651 -0.36294208 -0.72143846  1.43950562 -0.20639052]\n",
      " [ 0.08568021  0.76709071  1.35203774 -2.49229902 -1.1155527   0.34440565]\n",
      " [ 0.05722378  0.23104351  0.26627364  0.38449282 -0.8862579  -0.3545922 ]\n",
      " [ 0.04985457 -0.07574505 -1.25815041  1.10188942 -0.45491641  0.46625055]\n",
      " [-0.40459095  0.47544274  0.40456108  0.5243685  -0.05905909 -0.05349843]\n",
      " [ 0.07978589 -0.70329676 -0.04235367  0.28780603 -0.26874562 -0.07145575]]\n",
      "[-19.37675083  14.39086557  16.79430868 -21.69776323   5.16762034\n",
      "   0.05226056   4.66945893]\n"
     ]
    }
   ],
   "source": [
    "print(f\"train: {train_score}, test: {test_score}\")\n",
    "class_names=training_labels.unique()\n",
    "print (model.classes_)\n",
    "print (model.coef_)\n",
    "print (model.intercept_)"
   ]
  },
  {
   "cell_type": "code",
   "execution_count": 53,
   "metadata": {},
   "outputs": [
    {
     "name": "stdout",
     "output_type": "stream",
     "text": [
      "Confusion matrix, without normalization\n",
      "[[ 7  0  0  0  0  0  0]\n",
      " [ 0  1  0  0  0  0  0]\n",
      " [ 0  0 14  0  0  0  0]\n",
      " [ 0  0  0  1  0  0  0]\n",
      " [ 0  0  0  0  4  1  1]\n",
      " [ 0  0  0  0  0  2  0]\n",
      " [ 0  0  0  0  0  0  1]]\n",
      "Normalized confusion matrix\n",
      "[[1.         0.         0.         0.         0.         0.\n",
      "  0.        ]\n",
      " [0.         1.         0.         0.         0.         0.\n",
      "  0.        ]\n",
      " [0.         0.         1.         0.         0.         0.\n",
      "  0.        ]\n",
      " [0.         0.         0.         1.         0.         0.\n",
      "  0.        ]\n",
      " [0.         0.         0.         0.         0.66666667 0.16666667\n",
      "  0.16666667]\n",
      " [0.         0.         0.         0.         0.         1.\n",
      "  0.        ]\n",
      " [0.         0.         0.         0.         0.         0.\n",
      "  1.        ]]\n"
     ]
    },
    {
     "data": {
      "image/png": "[encoded data removed]",
      "text/plain": [
       "<Figure size 432x288 with 2 Axes>"
      ]
     },
     "metadata": {
      "needs_background": "light"
     },
     "output_type": "display_data"
    },
    {
     "data": {
      "image/png": "[encoded data removed]",
      "text/plain": [
       "<Figure size 432x288 with 2 Axes>"
      ]
     },
     "metadata": {
      "needs_background": "light"
     },
     "output_type": "display_data"
    }
   ],
   "source": [
    "# Plot non-normalized confusion matrix\n",
    "titles_options = [\n",
    "    (\"Confusion matrix, without normalization\", None),\n",
    "    (\"Normalized confusion matrix\", \"true\"),\n",
    "]\n",
    "for title, normalize in titles_options:\n",
    "    disp = ConfusionMatrixDisplay.from_estimator(\n",
    "        model,\n",
    "        test_data,\n",
    "        test_labels,\n",
    "        display_labels=model.classes_,\n",
    "        cmap=plt.cm.Blues,\n",
    "        normalize=normalize,\n",
    "    )\n",
    "    disp.ax_.set_title(title)\n",
    "\n",
    "    print(title)\n",
    "    print(disp.confusion_matrix)\n",
    "\n",
    "plt.show()"
   ]
  },
  {
   "cell_type": "code",
   "execution_count": 54,
   "metadata": {},
   "outputs": [
    {
     "data": {
      "image/png": "[encoded data removed]",
      "text/plain": [
       "<Figure size 432x288 with 2 Axes>"
      ]
     },
     "metadata": {
      "needs_background": "light"
     },
     "output_type": "display_data"
    }
   ],
   "source": [
    "import seaborn as sns\n",
    "from sklearn.metrics import confusion_matrix\n",
    "\n",
    "cm = confusion_matrix(test_labels, model.predict(test_data))\n",
    "f = sns.heatmap(cm, annot=True, fmt='d', xticklabels=model.classes_, yticklabels=model.classes_)"
   ]
  },
  {
   "cell_type": "code",
   "execution_count": null,
   "metadata": {},
   "outputs": [],
   "source": [
    "Precision = \"Court/less false positive, MD diagnostinc\"\n",
    "Recall = \"Cancer/less false negative, MD screening\""
   ]
  }
 ],
 "metadata": {
  "kernelspec": {
   "display_name": "Python 3 (ipykernel)",
   "language": "python",
   "name": "python3"
  },
  "language_info": {
   "codemirror_mode": {
    "name": "ipython",
    "version": 3
   },
   "file_extension": ".py",
   "mimetype": "text/x-python",
   "name": "python",
   "nbconvert_exporter": "python",
   "pygments_lexer": "ipython3",
   "version": "3.9.12"
  }
 },
 "nbformat": 4,
 "nbformat_minor": 4
}
